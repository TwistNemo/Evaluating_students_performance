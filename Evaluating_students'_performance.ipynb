{
  "nbformat": 4,
  "nbformat_minor": 0,
  "metadata": {
    "colab": {
      "provenance": [],
      "collapsed_sections": [
        "M0zKAaYoPTBb",
        "MWJYCZ_cPP0R",
        "Rse0_Ys5QVNx"
      ]
    },
    "kernelspec": {
      "name": "python3",
      "display_name": "Python 3"
    },
    "language_info": {
      "name": "python"
    }
  },
  "cells": [
    {
      "cell_type": "markdown",
      "source": [
        "# Dataset Loading and Read the Dataset"
      ],
      "metadata": {
        "id": "M0zKAaYoPTBb"
      }
    },
    {
      "cell_type": "code",
      "execution_count": null,
      "metadata": {
        "colab": {
          "base_uri": "https://localhost:8080/",
          "height": 423
        },
        "id": "pE-17qsnNl_z",
        "outputId": "158799ef-5826-47fa-b36a-8f0ffbf826c8"
      },
      "outputs": [
        {
          "output_type": "execute_result",
          "data": {
            "text/plain": [
              "          ID          CSE1          CSE2          CSE3           CSE4 SECTION\n",
              "0          1  cxscc51$*%^&    dsfe36dsfy  sada79xfsadf     H%d%29vgfs       B\n",
              "1          2   cxscc27xdff  dsfe29asdgfw    edf84dsffw   bffdd73adsfy       C\n",
              "2          3  ddsfs52dsffw    edf32**&%&     edf31vgfs   ddfs49asdgfw       B\n",
              "3          4   ddfs36dsffw    H%d%57vgfs  #%%$54xfsadf   H%d%28asdgfw       B\n",
              "4          5   dsfe30**^&$    ddfs67dsfy    edf35$*%^&   **$@%29**^&$       D\n",
              "...      ...           ...           ...           ...            ...     ...\n",
              "19995  19996   edf47xfsadf  cxscc73dsffw   **$@%48xdff   cxscc30$*%^&       C\n",
              "19996  19997  ddsfs73dsffw  bffdd54**^&$   sada60dsffw     sada32dsfy       D\n",
              "19997  19998  **$@%74dsffw   H%d%41dsffw    H%d%87xdff  cxscc74xfsadf       A\n",
              "19998  19999    ddfs76vgfs   bffdd61xdff    #%%$42vgfs    **$@%58xdff       A\n",
              "19999  20000    ddfs67vgfs  sada93asdgfw   sada42**&%&    cxscc68dsfy       B\n",
              "\n",
              "[20000 rows x 6 columns]"
            ],
            "text/html": [
              "\n",
              "  <div id=\"df-137a5040-d315-4697-9463-7499c2afe4ec\" class=\"colab-df-container\">\n",
              "    <div>\n",
              "<style scoped>\n",
              "    .dataframe tbody tr th:only-of-type {\n",
              "        vertical-align: middle;\n",
              "    }\n",
              "\n",
              "    .dataframe tbody tr th {\n",
              "        vertical-align: top;\n",
              "    }\n",
              "\n",
              "    .dataframe thead th {\n",
              "        text-align: right;\n",
              "    }\n",
              "</style>\n",
              "<table border=\"1\" class=\"dataframe\">\n",
              "  <thead>\n",
              "    <tr style=\"text-align: right;\">\n",
              "      <th></th>\n",
              "      <th>ID</th>\n",
              "      <th>CSE1</th>\n",
              "      <th>CSE2</th>\n",
              "      <th>CSE3</th>\n",
              "      <th>CSE4</th>\n",
              "      <th>SECTION</th>\n",
              "    </tr>\n",
              "  </thead>\n",
              "  <tbody>\n",
              "    <tr>\n",
              "      <th>0</th>\n",
              "      <td>1</td>\n",
              "      <td>cxscc51$*%^&amp;</td>\n",
              "      <td>dsfe36dsfy</td>\n",
              "      <td>sada79xfsadf</td>\n",
              "      <td>H%d%29vgfs</td>\n",
              "      <td>B</td>\n",
              "    </tr>\n",
              "    <tr>\n",
              "      <th>1</th>\n",
              "      <td>2</td>\n",
              "      <td>cxscc27xdff</td>\n",
              "      <td>dsfe29asdgfw</td>\n",
              "      <td>edf84dsffw</td>\n",
              "      <td>bffdd73adsfy</td>\n",
              "      <td>C</td>\n",
              "    </tr>\n",
              "    <tr>\n",
              "      <th>2</th>\n",
              "      <td>3</td>\n",
              "      <td>ddsfs52dsffw</td>\n",
              "      <td>edf32**&amp;%&amp;</td>\n",
              "      <td>edf31vgfs</td>\n",
              "      <td>ddfs49asdgfw</td>\n",
              "      <td>B</td>\n",
              "    </tr>\n",
              "    <tr>\n",
              "      <th>3</th>\n",
              "      <td>4</td>\n",
              "      <td>ddfs36dsffw</td>\n",
              "      <td>H%d%57vgfs</td>\n",
              "      <td>#%%$54xfsadf</td>\n",
              "      <td>H%d%28asdgfw</td>\n",
              "      <td>B</td>\n",
              "    </tr>\n",
              "    <tr>\n",
              "      <th>4</th>\n",
              "      <td>5</td>\n",
              "      <td>dsfe30**^&amp;$</td>\n",
              "      <td>ddfs67dsfy</td>\n",
              "      <td>edf35$*%^&amp;</td>\n",
              "      <td>**$@%29**^&amp;$</td>\n",
              "      <td>D</td>\n",
              "    </tr>\n",
              "    <tr>\n",
              "      <th>...</th>\n",
              "      <td>...</td>\n",
              "      <td>...</td>\n",
              "      <td>...</td>\n",
              "      <td>...</td>\n",
              "      <td>...</td>\n",
              "      <td>...</td>\n",
              "    </tr>\n",
              "    <tr>\n",
              "      <th>19995</th>\n",
              "      <td>19996</td>\n",
              "      <td>edf47xfsadf</td>\n",
              "      <td>cxscc73dsffw</td>\n",
              "      <td>**$@%48xdff</td>\n",
              "      <td>cxscc30$*%^&amp;</td>\n",
              "      <td>C</td>\n",
              "    </tr>\n",
              "    <tr>\n",
              "      <th>19996</th>\n",
              "      <td>19997</td>\n",
              "      <td>ddsfs73dsffw</td>\n",
              "      <td>bffdd54**^&amp;$</td>\n",
              "      <td>sada60dsffw</td>\n",
              "      <td>sada32dsfy</td>\n",
              "      <td>D</td>\n",
              "    </tr>\n",
              "    <tr>\n",
              "      <th>19997</th>\n",
              "      <td>19998</td>\n",
              "      <td>**$@%74dsffw</td>\n",
              "      <td>H%d%41dsffw</td>\n",
              "      <td>H%d%87xdff</td>\n",
              "      <td>cxscc74xfsadf</td>\n",
              "      <td>A</td>\n",
              "    </tr>\n",
              "    <tr>\n",
              "      <th>19998</th>\n",
              "      <td>19999</td>\n",
              "      <td>ddfs76vgfs</td>\n",
              "      <td>bffdd61xdff</td>\n",
              "      <td>#%%$42vgfs</td>\n",
              "      <td>**$@%58xdff</td>\n",
              "      <td>A</td>\n",
              "    </tr>\n",
              "    <tr>\n",
              "      <th>19999</th>\n",
              "      <td>20000</td>\n",
              "      <td>ddfs67vgfs</td>\n",
              "      <td>sada93asdgfw</td>\n",
              "      <td>sada42**&amp;%&amp;</td>\n",
              "      <td>cxscc68dsfy</td>\n",
              "      <td>B</td>\n",
              "    </tr>\n",
              "  </tbody>\n",
              "</table>\n",
              "<p>20000 rows × 6 columns</p>\n",
              "</div>\n",
              "    <div class=\"colab-df-buttons\">\n",
              "\n",
              "  <div class=\"colab-df-container\">\n",
              "    <button class=\"colab-df-convert\" onclick=\"convertToInteractive('df-137a5040-d315-4697-9463-7499c2afe4ec')\"\n",
              "            title=\"Convert this dataframe to an interactive table.\"\n",
              "            style=\"display:none;\">\n",
              "\n",
              "  <svg xmlns=\"http://www.w3.org/2000/svg\" height=\"24px\" viewBox=\"0 -960 960 960\">\n",
              "    <path d=\"M120-120v-720h720v720H120Zm60-500h600v-160H180v160Zm220 220h160v-160H400v160Zm0 220h160v-160H400v160ZM180-400h160v-160H180v160Zm440 0h160v-160H620v160ZM180-180h160v-160H180v160Zm440 0h160v-160H620v160Z\"/>\n",
              "  </svg>\n",
              "    </button>\n",
              "\n",
              "  <style>\n",
              "    .colab-df-container {\n",
              "      display:flex;\n",
              "      gap: 12px;\n",
              "    }\n",
              "\n",
              "    .colab-df-convert {\n",
              "      background-color: #E8F0FE;\n",
              "      border: none;\n",
              "      border-radius: 50%;\n",
              "      cursor: pointer;\n",
              "      display: none;\n",
              "      fill: #1967D2;\n",
              "      height: 32px;\n",
              "      padding: 0 0 0 0;\n",
              "      width: 32px;\n",
              "    }\n",
              "\n",
              "    .colab-df-convert:hover {\n",
              "      background-color: #E2EBFA;\n",
              "      box-shadow: 0px 1px 2px rgba(60, 64, 67, 0.3), 0px 1px 3px 1px rgba(60, 64, 67, 0.15);\n",
              "      fill: #174EA6;\n",
              "    }\n",
              "\n",
              "    .colab-df-buttons div {\n",
              "      margin-bottom: 4px;\n",
              "    }\n",
              "\n",
              "    [theme=dark] .colab-df-convert {\n",
              "      background-color: #3B4455;\n",
              "      fill: #D2E3FC;\n",
              "    }\n",
              "\n",
              "    [theme=dark] .colab-df-convert:hover {\n",
              "      background-color: #434B5C;\n",
              "      box-shadow: 0px 1px 3px 1px rgba(0, 0, 0, 0.15);\n",
              "      filter: drop-shadow(0px 1px 2px rgba(0, 0, 0, 0.3));\n",
              "      fill: #FFFFFF;\n",
              "    }\n",
              "  </style>\n",
              "\n",
              "    <script>\n",
              "      const buttonEl =\n",
              "        document.querySelector('#df-137a5040-d315-4697-9463-7499c2afe4ec button.colab-df-convert');\n",
              "      buttonEl.style.display =\n",
              "        google.colab.kernel.accessAllowed ? 'block' : 'none';\n",
              "\n",
              "      async function convertToInteractive(key) {\n",
              "        const element = document.querySelector('#df-137a5040-d315-4697-9463-7499c2afe4ec');\n",
              "        const dataTable =\n",
              "          await google.colab.kernel.invokeFunction('convertToInteractive',\n",
              "                                                    [key], {});\n",
              "        if (!dataTable) return;\n",
              "\n",
              "        const docLinkHtml = 'Like what you see? Visit the ' +\n",
              "          '<a target=\"_blank\" href=https://colab.research.google.com/notebooks/data_table.ipynb>data table notebook</a>'\n",
              "          + ' to learn more about interactive tables.';\n",
              "        element.innerHTML = '';\n",
              "        dataTable['output_type'] = 'display_data';\n",
              "        await google.colab.output.renderOutput(dataTable, element);\n",
              "        const docLink = document.createElement('div');\n",
              "        docLink.innerHTML = docLinkHtml;\n",
              "        element.appendChild(docLink);\n",
              "      }\n",
              "    </script>\n",
              "  </div>\n",
              "\n",
              "\n",
              "<div id=\"df-ac2411da-149e-4529-a1f8-b7e44f2afb04\">\n",
              "  <button class=\"colab-df-quickchart\" onclick=\"quickchart('df-ac2411da-149e-4529-a1f8-b7e44f2afb04')\"\n",
              "            title=\"Suggest charts.\"\n",
              "            style=\"display:none;\">\n",
              "\n",
              "<svg xmlns=\"http://www.w3.org/2000/svg\" height=\"24px\"viewBox=\"0 0 24 24\"\n",
              "     width=\"24px\">\n",
              "    <g>\n",
              "        <path d=\"M19 3H5c-1.1 0-2 .9-2 2v14c0 1.1.9 2 2 2h14c1.1 0 2-.9 2-2V5c0-1.1-.9-2-2-2zM9 17H7v-7h2v7zm4 0h-2V7h2v10zm4 0h-2v-4h2v4z\"/>\n",
              "    </g>\n",
              "</svg>\n",
              "  </button>\n",
              "\n",
              "<style>\n",
              "  .colab-df-quickchart {\n",
              "      --bg-color: #E8F0FE;\n",
              "      --fill-color: #1967D2;\n",
              "      --hover-bg-color: #E2EBFA;\n",
              "      --hover-fill-color: #174EA6;\n",
              "      --disabled-fill-color: #AAA;\n",
              "      --disabled-bg-color: #DDD;\n",
              "  }\n",
              "\n",
              "  [theme=dark] .colab-df-quickchart {\n",
              "      --bg-color: #3B4455;\n",
              "      --fill-color: #D2E3FC;\n",
              "      --hover-bg-color: #434B5C;\n",
              "      --hover-fill-color: #FFFFFF;\n",
              "      --disabled-bg-color: #3B4455;\n",
              "      --disabled-fill-color: #666;\n",
              "  }\n",
              "\n",
              "  .colab-df-quickchart {\n",
              "    background-color: var(--bg-color);\n",
              "    border: none;\n",
              "    border-radius: 50%;\n",
              "    cursor: pointer;\n",
              "    display: none;\n",
              "    fill: var(--fill-color);\n",
              "    height: 32px;\n",
              "    padding: 0;\n",
              "    width: 32px;\n",
              "  }\n",
              "\n",
              "  .colab-df-quickchart:hover {\n",
              "    background-color: var(--hover-bg-color);\n",
              "    box-shadow: 0 1px 2px rgba(60, 64, 67, 0.3), 0 1px 3px 1px rgba(60, 64, 67, 0.15);\n",
              "    fill: var(--button-hover-fill-color);\n",
              "  }\n",
              "\n",
              "  .colab-df-quickchart-complete:disabled,\n",
              "  .colab-df-quickchart-complete:disabled:hover {\n",
              "    background-color: var(--disabled-bg-color);\n",
              "    fill: var(--disabled-fill-color);\n",
              "    box-shadow: none;\n",
              "  }\n",
              "\n",
              "  .colab-df-spinner {\n",
              "    border: 2px solid var(--fill-color);\n",
              "    border-color: transparent;\n",
              "    border-bottom-color: var(--fill-color);\n",
              "    animation:\n",
              "      spin 1s steps(1) infinite;\n",
              "  }\n",
              "\n",
              "  @keyframes spin {\n",
              "    0% {\n",
              "      border-color: transparent;\n",
              "      border-bottom-color: var(--fill-color);\n",
              "      border-left-color: var(--fill-color);\n",
              "    }\n",
              "    20% {\n",
              "      border-color: transparent;\n",
              "      border-left-color: var(--fill-color);\n",
              "      border-top-color: var(--fill-color);\n",
              "    }\n",
              "    30% {\n",
              "      border-color: transparent;\n",
              "      border-left-color: var(--fill-color);\n",
              "      border-top-color: var(--fill-color);\n",
              "      border-right-color: var(--fill-color);\n",
              "    }\n",
              "    40% {\n",
              "      border-color: transparent;\n",
              "      border-right-color: var(--fill-color);\n",
              "      border-top-color: var(--fill-color);\n",
              "    }\n",
              "    60% {\n",
              "      border-color: transparent;\n",
              "      border-right-color: var(--fill-color);\n",
              "    }\n",
              "    80% {\n",
              "      border-color: transparent;\n",
              "      border-right-color: var(--fill-color);\n",
              "      border-bottom-color: var(--fill-color);\n",
              "    }\n",
              "    90% {\n",
              "      border-color: transparent;\n",
              "      border-bottom-color: var(--fill-color);\n",
              "    }\n",
              "  }\n",
              "</style>\n",
              "\n",
              "  <script>\n",
              "    async function quickchart(key) {\n",
              "      const quickchartButtonEl =\n",
              "        document.querySelector('#' + key + ' button');\n",
              "      quickchartButtonEl.disabled = true;  // To prevent multiple clicks.\n",
              "      quickchartButtonEl.classList.add('colab-df-spinner');\n",
              "      try {\n",
              "        const charts = await google.colab.kernel.invokeFunction(\n",
              "            'suggestCharts', [key], {});\n",
              "      } catch (error) {\n",
              "        console.error('Error during call to suggestCharts:', error);\n",
              "      }\n",
              "      quickchartButtonEl.classList.remove('colab-df-spinner');\n",
              "      quickchartButtonEl.classList.add('colab-df-quickchart-complete');\n",
              "    }\n",
              "    (() => {\n",
              "      let quickchartButtonEl =\n",
              "        document.querySelector('#df-ac2411da-149e-4529-a1f8-b7e44f2afb04 button');\n",
              "      quickchartButtonEl.style.display =\n",
              "        google.colab.kernel.accessAllowed ? 'block' : 'none';\n",
              "    })();\n",
              "  </script>\n",
              "</div>\n",
              "    </div>\n",
              "  </div>\n"
            ]
          },
          "metadata": {},
          "execution_count": 2
        }
      ],
      "source": [
        "import pandas as pd\n",
        "\n",
        "# Specify the file path\n",
        "file_path = \"/content/table_data.csv\"\n",
        "\n",
        "# Read the CSV file into a pandas DataFrame\n",
        "df = pd.read_csv(file_path)\n",
        "\n",
        "# Print the DataFrame to display the data in a table format\n",
        "df\n"
      ]
    },
    {
      "cell_type": "markdown",
      "source": [
        "# Data Cleaning"
      ],
      "metadata": {
        "id": "MWJYCZ_cPP0R"
      }
    },
    {
      "cell_type": "code",
      "source": [
        "import pandas as pd\n",
        "import re\n",
        "\n",
        "# Define a function to clean and convert a column to numerical\n",
        "def clean_and_convert_to_numeric(column):\n",
        "    # Use regular expressions to extract numerical values\n",
        "    cleaned_values = column.str.extract(r'(\\d+\\.*\\d*)', expand=False)\n",
        "\n",
        "    # Convert the extracted values to numeric (float)\n",
        "    return pd.to_numeric(cleaned_values, errors='coerce')\n",
        "\n",
        "# Apply the cleaning and conversion function to the specified columns\n",
        "df['CSE1'] = clean_and_convert_to_numeric(df['CSE1'])\n",
        "df['CSE2'] = clean_and_convert_to_numeric(df['CSE2'])\n",
        "df['CSE3'] = clean_and_convert_to_numeric(df['CSE3'])\n",
        "df['CSE4'] = clean_and_convert_to_numeric(df['CSE4'])\n",
        "\n",
        "# Print the updated DataFrame\n",
        "print(df)\n"
      ],
      "metadata": {
        "colab": {
          "base_uri": "https://localhost:8080/"
        },
        "id": "YlOP8wGlPY8R",
        "outputId": "f656c427-6104-4b16-cb91-d1dd67460f8e"
      },
      "execution_count": null,
      "outputs": [
        {
          "output_type": "stream",
          "name": "stdout",
          "text": [
            "          ID  CSE1  CSE2  CSE3  CSE4 SECTION\n",
            "0          1    51    36    79    29       B\n",
            "1          2    27    29    84    73       C\n",
            "2          3    52    32    31    49       B\n",
            "3          4    36    57    54    28       B\n",
            "4          5    30    67    35    29       D\n",
            "...      ...   ...   ...   ...   ...     ...\n",
            "19995  19996    47    73    48    30       C\n",
            "19996  19997    73    54    60    32       D\n",
            "19997  19998    74    41    87    74       A\n",
            "19998  19999    76    61    42    58       A\n",
            "19999  20000    67    93    42    68       B\n",
            "\n",
            "[20000 rows x 6 columns]\n"
          ]
        }
      ]
    },
    {
      "cell_type": "markdown",
      "source": [
        "**Check the column type**"
      ],
      "metadata": {
        "id": "mrrCHGtIQLcS"
      }
    },
    {
      "cell_type": "code",
      "source": [
        "\n",
        "# Get a list of column names\n",
        "column_names = df.columns\n",
        "\n",
        "# Check the data type of each column\n",
        "for column_name in column_names:\n",
        "    column_data_type = type(df[column_name].iloc[0])\n",
        "    print(f\"The data type of column '{column_name}' is: {column_data_type}\")\n"
      ],
      "metadata": {
        "colab": {
          "base_uri": "https://localhost:8080/"
        },
        "id": "jFHyPW9BQGVD",
        "outputId": "84414951-f0b9-4b26-9d2d-d7f310e48577"
      },
      "execution_count": null,
      "outputs": [
        {
          "output_type": "stream",
          "name": "stdout",
          "text": [
            "The data type of column 'ID' is: <class 'numpy.int64'>\n",
            "The data type of column 'CSE1' is: <class 'numpy.int64'>\n",
            "The data type of column 'CSE2' is: <class 'numpy.int64'>\n",
            "The data type of column 'CSE3' is: <class 'numpy.int64'>\n",
            "The data type of column 'CSE4' is: <class 'numpy.int64'>\n",
            "The data type of column 'SECTION' is: <class 'str'>\n"
          ]
        }
      ]
    },
    {
      "cell_type": "markdown",
      "source": [
        "# Average Calculation"
      ],
      "metadata": {
        "id": "Rse0_Ys5QVNx"
      }
    },
    {
      "cell_type": "code",
      "source": [
        "\n",
        "# Calculate the average mark for each student across CSE1 to CSE4\n",
        "df['AVG_MARK'] = df[['CSE1', 'CSE2', 'CSE3', 'CSE4']].mean(axis=1)\n",
        "\n",
        "# Print the DataFrame with the new AVG_MARK column\n",
        "print(df)\n"
      ],
      "metadata": {
        "colab": {
          "base_uri": "https://localhost:8080/"
        },
        "id": "XEMZVz8TQX4i",
        "outputId": "510bd0e0-f28b-4d81-ca33-719491a9cddc"
      },
      "execution_count": null,
      "outputs": [
        {
          "output_type": "stream",
          "name": "stdout",
          "text": [
            "          ID  CSE1  CSE2  CSE3  CSE4 SECTION  AVG_MARK\n",
            "0          1    51    36    79    29       B     48.75\n",
            "1          2    27    29    84    73       C     53.25\n",
            "2          3    52    32    31    49       B     41.00\n",
            "3          4    36    57    54    28       B     43.75\n",
            "4          5    30    67    35    29       D     40.25\n",
            "...      ...   ...   ...   ...   ...     ...       ...\n",
            "19995  19996    47    73    48    30       C     49.50\n",
            "19996  19997    73    54    60    32       D     54.75\n",
            "19997  19998    74    41    87    74       A     69.00\n",
            "19998  19999    76    61    42    58       A     59.25\n",
            "19999  20000    67    93    42    68       B     67.50\n",
            "\n",
            "[20000 rows x 7 columns]\n"
          ]
        }
      ]
    },
    {
      "cell_type": "markdown",
      "source": [
        "# Grade Assignment"
      ],
      "metadata": {
        "id": "YjPeIfhNRFSi"
      }
    },
    {
      "cell_type": "code",
      "source": [
        "\n",
        "# Define a function to assign grades based on average marks\n",
        "def assign_grade(avg_mark):\n",
        "    if 0 <= avg_mark <= 29:\n",
        "        return 'F'\n",
        "    elif 30 <= avg_mark <= 49:\n",
        "        return 'D'\n",
        "    elif 50 <= avg_mark <= 69:\n",
        "        return 'C'\n",
        "    elif 70 <= avg_mark <= 79:\n",
        "        return 'B'\n",
        "    elif 80 <= avg_mark <= 89:\n",
        "        return 'A-'\n",
        "    elif 90 <= avg_mark <= 100:\n",
        "        return 'A'\n",
        "    else:\n",
        "        return 'Invalid'\n",
        "\n",
        "# Apply the function to create the 'Grade' column\n",
        "df['Grade'] = df['AVG_MARK'].apply(assign_grade)\n",
        "\n",
        "# Print the DataFrame with the new 'Grade' column\n",
        "print(df)\n"
      ],
      "metadata": {
        "colab": {
          "base_uri": "https://localhost:8080/"
        },
        "id": "2XAQn70sRLqQ",
        "outputId": "0d352173-ff6a-49dc-8d7d-c47393c01823"
      },
      "execution_count": null,
      "outputs": [
        {
          "output_type": "stream",
          "name": "stdout",
          "text": [
            "          ID  CSE1  CSE2  CSE3  CSE4 SECTION  AVG_MARK    Grade\n",
            "0          1    51    36    79    29       B     48.75        D\n",
            "1          2    27    29    84    73       C     53.25        C\n",
            "2          3    52    32    31    49       B     41.00        D\n",
            "3          4    36    57    54    28       B     43.75        D\n",
            "4          5    30    67    35    29       D     40.25        D\n",
            "...      ...   ...   ...   ...   ...     ...       ...      ...\n",
            "19995  19996    47    73    48    30       C     49.50  Invalid\n",
            "19996  19997    73    54    60    32       D     54.75        C\n",
            "19997  19998    74    41    87    74       A     69.00        C\n",
            "19998  19999    76    61    42    58       A     59.25        C\n",
            "19999  20000    67    93    42    68       B     67.50        C\n",
            "\n",
            "[20000 rows x 8 columns]\n"
          ]
        }
      ]
    },
    {
      "cell_type": "markdown",
      "source": [
        "# Highest and Lowest Marked Subjects"
      ],
      "metadata": {
        "id": "pmjRFT_xS0dg"
      }
    },
    {
      "cell_type": "code",
      "source": [
        "\n",
        "# Define a function to find the subject with the highest mark\n",
        "def find_highest_mark_subject(row):\n",
        "    subjects = ['CSE1', 'CSE2', 'CSE3', 'CSE4']\n",
        "    max_subject = max(subjects, key=lambda subject: row[subject])\n",
        "    return max_subject\n",
        "\n",
        "# Define a function to find the subject with the lowest mark\n",
        "def find_lowest_mark_subject(row):\n",
        "    subjects = ['CSE1', 'CSE2', 'CSE3', 'CSE4']\n",
        "    min_subject = min(subjects, key=lambda subject: row[subject])\n",
        "    return min_subject\n",
        "\n",
        "# Apply the functions to create new columns\n",
        "df['Highest_Mark_Subject'] = df.apply(find_highest_mark_subject, axis=1)\n",
        "df['Lowest_Mark_Subject'] = df.apply(find_lowest_mark_subject, axis=1)\n",
        "\n",
        "# Print the DataFrame with the new columns\n",
        "print(df)\n"
      ],
      "metadata": {
        "colab": {
          "base_uri": "https://localhost:8080/"
        },
        "id": "uwnQEfTiS6Ll",
        "outputId": "123e36b7-2482-495e-82fb-8180ce4f70c8"
      },
      "execution_count": null,
      "outputs": [
        {
          "output_type": "stream",
          "name": "stdout",
          "text": [
            "          ID  CSE1  CSE2  CSE3  CSE4 SECTION  AVG_MARK    Grade  \\\n",
            "0          1    51    36    79    29       B     48.75        D   \n",
            "1          2    27    29    84    73       C     53.25        C   \n",
            "2          3    52    32    31    49       B     41.00        D   \n",
            "3          4    36    57    54    28       B     43.75        D   \n",
            "4          5    30    67    35    29       D     40.25        D   \n",
            "...      ...   ...   ...   ...   ...     ...       ...      ...   \n",
            "19995  19996    47    73    48    30       C     49.50  Invalid   \n",
            "19996  19997    73    54    60    32       D     54.75        C   \n",
            "19997  19998    74    41    87    74       A     69.00        C   \n",
            "19998  19999    76    61    42    58       A     59.25        C   \n",
            "19999  20000    67    93    42    68       B     67.50        C   \n",
            "\n",
            "      Highest_Mark_Subject Lowest_Mark_Subject  \n",
            "0                     CSE3                CSE4  \n",
            "1                     CSE3                CSE1  \n",
            "2                     CSE1                CSE3  \n",
            "3                     CSE2                CSE4  \n",
            "4                     CSE2                CSE4  \n",
            "...                    ...                 ...  \n",
            "19995                 CSE2                CSE4  \n",
            "19996                 CSE1                CSE4  \n",
            "19997                 CSE3                CSE2  \n",
            "19998                 CSE1                CSE3  \n",
            "19999                 CSE2                CSE3  \n",
            "\n",
            "[20000 rows x 10 columns]\n"
          ]
        }
      ]
    },
    {
      "cell_type": "markdown",
      "source": [
        "**Print the subject and mark as well**"
      ],
      "metadata": {
        "id": "NzxmB5FLTwNA"
      }
    },
    {
      "cell_type": "code",
      "source": [
        "\n",
        "# Create new columns for highest and lowest marks in subjects\n",
        "df['Highest_Mark_Subject'] = df[['CSE1', 'CSE2', 'CSE3', 'CSE4']].idxmax(axis=1)\n",
        "df['Lowest_Mark_Subject'] = df[['CSE1', 'CSE2', 'CSE3', 'CSE4']].idxmin(axis=1)\n",
        "\n",
        "# Create new columns for highest and lowest marks\n",
        "df['Highest_Mark'] = df[['CSE1', 'CSE2', 'CSE3', 'CSE4']].max(axis=1)\n",
        "df['Lowest_Mark'] = df[['CSE1', 'CSE2', 'CSE3', 'CSE4']].min(axis=1)\n",
        "\n",
        "# Print the DataFrame with the new columns\n",
        "print(df)\n"
      ],
      "metadata": {
        "colab": {
          "base_uri": "https://localhost:8080/"
        },
        "id": "EPDkMKdwThRQ",
        "outputId": "96c17281-4466-46fc-af37-63ff3558d135"
      },
      "execution_count": null,
      "outputs": [
        {
          "output_type": "stream",
          "name": "stdout",
          "text": [
            "          ID  CSE1  CSE2  CSE3  CSE4 SECTION  AVG_MARK    Grade  \\\n",
            "0          1    51    36    79    29       B     48.75        D   \n",
            "1          2    27    29    84    73       C     53.25        C   \n",
            "2          3    52    32    31    49       B     41.00        D   \n",
            "3          4    36    57    54    28       B     43.75        D   \n",
            "4          5    30    67    35    29       D     40.25        D   \n",
            "...      ...   ...   ...   ...   ...     ...       ...      ...   \n",
            "19995  19996    47    73    48    30       C     49.50  Invalid   \n",
            "19996  19997    73    54    60    32       D     54.75        C   \n",
            "19997  19998    74    41    87    74       A     69.00        C   \n",
            "19998  19999    76    61    42    58       A     59.25        C   \n",
            "19999  20000    67    93    42    68       B     67.50        C   \n",
            "\n",
            "      Highest_Mark_Subject Lowest_Mark_Subject  Highest_Mark  Lowest_Mark  \n",
            "0                     CSE3                CSE4            79           29  \n",
            "1                     CSE3                CSE1            84           27  \n",
            "2                     CSE1                CSE3            52           31  \n",
            "3                     CSE2                CSE4            57           28  \n",
            "4                     CSE2                CSE4            67           29  \n",
            "...                    ...                 ...           ...          ...  \n",
            "19995                 CSE2                CSE4            73           30  \n",
            "19996                 CSE1                CSE4            73           32  \n",
            "19997                 CSE3                CSE2            87           41  \n",
            "19998                 CSE1                CSE3            76           42  \n",
            "19999                 CSE2                CSE3            93           42  \n",
            "\n",
            "[20000 rows x 12 columns]\n"
          ]
        }
      ]
    },
    {
      "cell_type": "markdown",
      "source": [
        "# Section Wise Highest Average Mark"
      ],
      "metadata": {
        "id": "xXyN-tOdTERp"
      }
    },
    {
      "cell_type": "code",
      "source": [
        "\n",
        "# Calculate the maximum AVG_MARK for each section\n",
        "max_avg_mark_by_section = df.groupby('SECTION')['AVG_MARK'].transform('max')\n",
        "\n",
        "# Create the 'MAX_AVG_MARK_SECTION' column\n",
        "df['MAX_AVG_MARK_SECTION'] = max_avg_mark_by_section\n",
        "\n",
        "# Save the updated DataFrame to a new CSV file\n",
        "output_file_path = \"/content/updated_table_data.csv\"\n",
        "df.to_csv(output_file_path, index=False)\n",
        "\n",
        "# Print the DataFrame with the new column\n",
        "print(df)\n",
        "\n",
        "# Print the path to the saved CSV file\n",
        "print(f\"Updated CSV file saved to: {output_file_path}\")\n"
      ],
      "metadata": {
        "colab": {
          "base_uri": "https://localhost:8080/"
        },
        "id": "k_8bFedDTIy4",
        "outputId": "fa165121-98c3-4f07-a68d-52176b224c62"
      },
      "execution_count": null,
      "outputs": [
        {
          "output_type": "stream",
          "name": "stdout",
          "text": [
            "          ID  CSE1  CSE2  CSE3  CSE4 SECTION  AVG_MARK    Grade  \\\n",
            "0          1    51    36    79    29       B     48.75        D   \n",
            "1          2    27    29    84    73       C     53.25        C   \n",
            "2          3    52    32    31    49       B     41.00        D   \n",
            "3          4    36    57    54    28       B     43.75        D   \n",
            "4          5    30    67    35    29       D     40.25        D   \n",
            "...      ...   ...   ...   ...   ...     ...       ...      ...   \n",
            "19995  19996    47    73    48    30       C     49.50  Invalid   \n",
            "19996  19997    73    54    60    32       D     54.75        C   \n",
            "19997  19998    74    41    87    74       A     69.00        C   \n",
            "19998  19999    76    61    42    58       A     59.25        C   \n",
            "19999  20000    67    93    42    68       B     67.50        C   \n",
            "\n",
            "      Highest_Mark_Subject Lowest_Mark_Subject  Highest_Mark  Lowest_Mark  \\\n",
            "0                     CSE3                CSE4            79           29   \n",
            "1                     CSE3                CSE1            84           27   \n",
            "2                     CSE1                CSE3            52           31   \n",
            "3                     CSE2                CSE4            57           28   \n",
            "4                     CSE2                CSE4            67           29   \n",
            "...                    ...                 ...           ...          ...   \n",
            "19995                 CSE2                CSE4            73           30   \n",
            "19996                 CSE1                CSE4            73           32   \n",
            "19997                 CSE3                CSE2            87           41   \n",
            "19998                 CSE1                CSE3            76           42   \n",
            "19999                 CSE2                CSE3            93           42   \n",
            "\n",
            "       MAX_AVG_MARK_SECTION  \n",
            "0                     89.75  \n",
            "1                     91.25  \n",
            "2                     89.75  \n",
            "3                     89.75  \n",
            "4                     89.75  \n",
            "...                     ...  \n",
            "19995                 91.25  \n",
            "19996                 89.75  \n",
            "19997                 91.75  \n",
            "19998                 91.75  \n",
            "19999                 89.75  \n",
            "\n",
            "[20000 rows x 13 columns]\n",
            "Updated CSV file saved to: /content/updated_table_data.csv\n"
          ]
        }
      ]
    }
  ]
}